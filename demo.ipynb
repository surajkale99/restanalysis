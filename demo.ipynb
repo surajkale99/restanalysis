{
 "cells": [
  {
   "cell_type": "code",
   "execution_count": 1,
   "id": "5f8a27e1",
   "metadata": {},
   "outputs": [],
   "source": [
    "# GUI app\n",
    "# flask app"
   ]
  },
  {
   "cell_type": "code",
   "execution_count": 2,
   "id": "6fd1c0c1",
   "metadata": {},
   "outputs": [],
   "source": [
    "# GUI app >> desktop applications"
   ]
  },
  {
   "cell_type": "code",
   "execution_count": 3,
   "id": "160266bf",
   "metadata": {},
   "outputs": [],
   "source": [
    "# mysql"
   ]
  },
  {
   "cell_type": "code",
   "execution_count": 4,
   "id": "988505b4",
   "metadata": {},
   "outputs": [
    {
     "name": "stdout",
     "output_type": "stream",
     "text": [
      "Collecting pymysql\n",
      "  Using cached PyMySQL-1.1.1-py3-none-any.whl.metadata (4.4 kB)\n",
      "Using cached PyMySQL-1.1.1-py3-none-any.whl (44 kB)\n",
      "Installing collected packages: pymysql\n",
      "Successfully installed pymysql-1.1.1\n"
     ]
    }
   ],
   "source": [
    "!pip install pymysql"
   ]
  },
  {
   "cell_type": "code",
   "execution_count": 5,
   "id": "ca60975c",
   "metadata": {},
   "outputs": [
    {
     "data": {
      "text/plain": [
       "16"
      ]
     },
     "execution_count": 5,
     "metadata": {},
     "output_type": "execute_result"
    }
   ],
   "source": [
    "foods = [\"Idly\", \"Dosa\", \"Vada\", \"Roti\", \"Meals\", \"Veg Biryani\",\n",
    "         \"Egg Biryani\", \"Chicken Biryani\", \"Mutton Biryani\",\n",
    "         \"Ice Cream\", \"Noodles\", \"Manchooriya\", \"Orange juice\",\n",
    "         \"Apple Juice\", \"Pineapple juice\", \"Banana juice\"]\n",
    "len(foods)"
   ]
  },
  {
   "cell_type": "code",
   "execution_count": null,
   "id": "9620749d",
   "metadata": {},
   "outputs": [],
   "source": [
    "# import pymysql\n",
    "# conn=pymysql.connect(user='root',password='Python@123',host='localhost')\n",
    "# qur='create database project1'\n",
    "# mycur=conn.cursor()\n",
    "# mycur.execute(qur)\n",
    "# mycur.close()\n",
    "# conn.close()"
   ]
  },
  {
   "cell_type": "code",
   "execution_count": null,
   "id": "2c3a70a3",
   "metadata": {},
   "outputs": [],
   "source": [
    "# import pymysql\n",
    "# conn=pymysql.connect(user='root',password='Python@123',host='localhost',database='project1')\n",
    "# qur='create table rest_table(food VARCHAR(40),good_review INT,bad_review INT,customer INT)'\n",
    "# mycur=conn.cursor()\n",
    "# mycur.execute(qur)\n",
    "# mycur.close()\n",
    "# conn.close()"
   ]
  },
  {
   "cell_type": "code",
   "execution_count": 4,
   "id": "b2cd10f3",
   "metadata": {},
   "outputs": [],
   "source": [
    "# foods = [\"Idly\", \"Dosa\", \"Vada\", \"Roti\", \"Meals\", \"Veg Biryani\",\n",
    "#          \"Egg Biryani\", \"Chicken Biryani\", \"Mutton Biryani\",\n",
    "#          \"Ice Cream\", \"Noodles\", \"Manchooriya\", \"Orange juice\",\n",
    "#          \"Apple Juice\", \"Pineapple juice\", \"Banana juice\"]\n",
    "# for i in foods:\n",
    "#     conn=pymysql.connect(user='root',password='Python@123',host='localhost',\n",
    "#                          database='project1')\n",
    "#     qur='INSERT INTO rest_table(food,good_review,bad_review,customer) VALUES(\"%s\",%d,%d,%d)'%(i,0,0,0)\n",
    "#     mycur=conn.cursor()\n",
    "#     mycur.execute(qur)\n",
    "#     conn.commit()\n",
    "#     mycur.close()\n",
    "#     conn.close()"
   ]
  },
  {
   "cell_type": "code",
   "execution_count": 6,
   "id": "8cda565c",
   "metadata": {},
   "outputs": [
    {
     "name": "stdout",
     "output_type": "stream",
     "text": [
      "Collecting scikit-learn\n",
      "  Using cached scikit_learn-1.7.1-cp310-cp310-win_amd64.whl.metadata (11 kB)\n",
      "Requirement already satisfied: numpy>=1.22.0 in c:\\users\\lenovo\\anaconda3\\envs\\malenv\\lib\\site-packages (from scikit-learn) (1.26.4)\n",
      "Requirement already satisfied: scipy>=1.8.0 in c:\\users\\lenovo\\anaconda3\\envs\\malenv\\lib\\site-packages (from scikit-learn) (1.13.1)\n",
      "Requirement already satisfied: joblib>=1.2.0 in c:\\users\\lenovo\\anaconda3\\envs\\malenv\\lib\\site-packages (from scikit-learn) (1.5.1)\n",
      "Collecting threadpoolctl>=3.1.0 (from scikit-learn)\n",
      "  Using cached threadpoolctl-3.6.0-py3-none-any.whl.metadata (13 kB)\n",
      "Using cached scikit_learn-1.7.1-cp310-cp310-win_amd64.whl (8.9 MB)\n",
      "Using cached threadpoolctl-3.6.0-py3-none-any.whl (18 kB)\n",
      "Installing collected packages: threadpoolctl, scikit-learn\n",
      "\n",
      "   -------------------- ------------------- 1/2 [scikit-learn]\n",
      "   -------------------- ------------------- 1/2 [scikit-learn]\n",
      "   -------------------- ------------------- 1/2 [scikit-learn]\n",
      "   -------------------- ------------------- 1/2 [scikit-learn]\n",
      "   -------------------- ------------------- 1/2 [scikit-learn]\n",
      "   -------------------- ------------------- 1/2 [scikit-learn]\n",
      "   -------------------- ------------------- 1/2 [scikit-learn]\n",
      "   -------------------- ------------------- 1/2 [scikit-learn]\n",
      "   -------------------- ------------------- 1/2 [scikit-learn]\n",
      "   -------------------- ------------------- 1/2 [scikit-learn]\n",
      "   -------------------- ------------------- 1/2 [scikit-learn]\n",
      "   -------------------- ------------------- 1/2 [scikit-learn]\n",
      "   -------------------- ------------------- 1/2 [scikit-learn]\n",
      "   -------------------- ------------------- 1/2 [scikit-learn]\n",
      "   -------------------- ------------------- 1/2 [scikit-learn]\n",
      "   -------------------- ------------------- 1/2 [scikit-learn]\n",
      "   -------------------- ------------------- 1/2 [scikit-learn]\n",
      "   -------------------- ------------------- 1/2 [scikit-learn]\n",
      "   -------------------- ------------------- 1/2 [scikit-learn]\n",
      "   -------------------- ------------------- 1/2 [scikit-learn]\n",
      "   -------------------- ------------------- 1/2 [scikit-learn]\n",
      "   -------------------- ------------------- 1/2 [scikit-learn]\n",
      "   -------------------- ------------------- 1/2 [scikit-learn]\n",
      "   -------------------- ------------------- 1/2 [scikit-learn]\n",
      "   -------------------- ------------------- 1/2 [scikit-learn]\n",
      "   -------------------- ------------------- 1/2 [scikit-learn]\n",
      "   -------------------- ------------------- 1/2 [scikit-learn]\n",
      "   -------------------- ------------------- 1/2 [scikit-learn]\n",
      "   -------------------- ------------------- 1/2 [scikit-learn]\n",
      "   -------------------- ------------------- 1/2 [scikit-learn]\n",
      "   -------------------- ------------------- 1/2 [scikit-learn]\n",
      "   -------------------- ------------------- 1/2 [scikit-learn]\n",
      "   -------------------- ------------------- 1/2 [scikit-learn]\n",
      "   -------------------- ------------------- 1/2 [scikit-learn]\n",
      "   -------------------- ------------------- 1/2 [scikit-learn]\n",
      "   ---------------------------------------- 2/2 [scikit-learn]\n",
      "\n",
      "Successfully installed scikit-learn-1.7.1 threadpoolctl-3.6.0\n"
     ]
    }
   ],
   "source": [
    "!pip install scikit-learn\n"
   ]
  },
  {
   "cell_type": "code",
   "execution_count": null,
   "id": "ca5e4806",
   "metadata": {},
   "outputs": [],
   "source": []
  }
 ],
 "metadata": {
  "kernelspec": {
   "display_name": "malenv",
   "language": "python",
   "name": "python3"
  },
  "language_info": {
   "codemirror_mode": {
    "name": "ipython",
    "version": 3
   },
   "file_extension": ".py",
   "mimetype": "text/x-python",
   "name": "python",
   "nbconvert_exporter": "python",
   "pygments_lexer": "ipython3",
   "version": "3.10.18"
  }
 },
 "nbformat": 4,
 "nbformat_minor": 5
}
